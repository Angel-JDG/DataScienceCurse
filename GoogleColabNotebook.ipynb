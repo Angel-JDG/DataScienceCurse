{
  "nbformat": 4,
  "nbformat_minor": 0,
  "metadata": {
    "colab": {
      "provenance": [],
      "authorship_tag": "ABX9TyMLrUze6xCuUCbWEubQR+aO",
      "include_colab_link": true
    },
    "kernelspec": {
      "name": "python3",
      "display_name": "Python 3"
    },
    "language_info": {
      "name": "python"
    }
  },
  "cells": [
    {
      "cell_type": "markdown",
      "metadata": {
        "id": "view-in-github",
        "colab_type": "text"
      },
      "source": [
        "<a href=\"https://colab.research.google.com/github/Angel-JDG/DataScienceCurse/blob/main/GoogleColabNotebook.ipynb\" target=\"_parent\"><img src=\"https://colab.research.google.com/assets/colab-badge.svg\" alt=\"Open In Colab\"/></a>"
      ]
    },
    {
      "cell_type": "markdown",
      "source": [],
      "metadata": {
        "id": "dZug0I5H_wfL"
      }
    },
    {
      "cell_type": "markdown",
      "source": [
        "## Clase Modulo 1 - Python para data Science\n",
        "\n",
        "En este modulo vamos a ver:\n",
        "\n",
        "* Introducción al notebook de Google Colaboratory.\n",
        "* Introducción al lenguaje de programación Python.\n",
        "\n",
        "\n"
      ],
      "metadata": {
        "id": "dKD6bVkJ_ILO"
      }
    },
    {
      "cell_type": "code",
      "source": [
        "print(\"Hola Hundo\")"
      ],
      "metadata": {
        "id": "QsOiM-Cs_xMm"
      },
      "execution_count": null,
      "outputs": []
    },
    {
      "cell_type": "markdown",
      "source": [
        "### Desafio Modulo 1 - sección 8\n"
      ],
      "metadata": {
        "id": "Br1RgdKfNFsp"
      }
    },
    {
      "cell_type": "code",
      "source": [
        "# Desafio #1\n",
        "print(\"Escuela de Datos de Alura.\")"
      ],
      "metadata": {
        "colab": {
          "base_uri": "https://localhost:8080/"
        },
        "id": "zp56Fu6WNYxn",
        "outputId": "39ed8c97-2562-4f9f-b24d-c2da49c30de5"
      },
      "execution_count": null,
      "outputs": [
        {
          "output_type": "stream",
          "name": "stdout",
          "text": [
            "Escuela de Datos de Alura.\n"
          ]
        }
      ]
    },
    {
      "cell_type": "code",
      "source": [
        "#Desafio #2\n",
        "Nombre = \"Angel\"\n",
        "Apellido = \"Delgado\"\n",
        "\n",
        "print (f\"Mi nombre es {Nombre} {Apellido}\")"
      ],
      "metadata": {
        "colab": {
          "base_uri": "https://localhost:8080/"
        },
        "id": "O43jLNQpNxLe",
        "outputId": "6b88d115-0b0c-4de0-ee26-e2ef947a614f"
      },
      "execution_count": null,
      "outputs": [
        {
          "output_type": "stream",
          "name": "stdout",
          "text": [
            "Mi nombre es Angel Delgado\n"
          ]
        }
      ]
    },
    {
      "cell_type": "code",
      "source": [
        "#Desafio #3\n",
        "Nombre = \"Pedro\"\n",
        "for a in Nombre:\n",
        "  print (a)"
      ],
      "metadata": {
        "colab": {
          "base_uri": "https://localhost:8080/"
        },
        "id": "pzB8LiMHOZXA",
        "outputId": "55800a7b-34aa-4b40-9da4-9e1f11cee33d"
      },
      "execution_count": null,
      "outputs": [
        {
          "output_type": "stream",
          "name": "stdout",
          "text": [
            "P\n",
            "e\n",
            "d\n",
            "r\n",
            "o\n"
          ]
        }
      ]
    },
    {
      "cell_type": "code",
      "source": [
        "#Desafio #4\n",
        "Mes = \"Abril\"\n",
        "Año = 2025\n",
        "Dia = 4\n",
        "print (f\"{Dia} {Mes} del {Año}\")"
      ],
      "metadata": {
        "colab": {
          "base_uri": "https://localhost:8080/"
        },
        "id": "L-i7iC7yRf1c",
        "outputId": "8c304412-a28c-4c6d-8ba5-b07a772681b0"
      },
      "execution_count": null,
      "outputs": [
        {
          "output_type": "stream",
          "name": "stdout",
          "text": [
            "4 Abril del 2025\n"
          ]
        }
      ]
    },
    {
      "cell_type": "code",
      "source": [
        "#Desafio #5\n",
        "Año = 2025\n",
        "print(f\"Año Actual: {Año}\")"
      ],
      "metadata": {
        "colab": {
          "base_uri": "https://localhost:8080/"
        },
        "id": "r3n3wdfNShPy",
        "outputId": "9f605043-d44d-4f9a-ddf0-006b8bb48edf"
      },
      "execution_count": null,
      "outputs": [
        {
          "output_type": "stream",
          "name": "stdout",
          "text": [
            "Año Actual: 2025\n"
          ]
        }
      ]
    },
    {
      "cell_type": "markdown",
      "source": [
        "## Clase Modulo 2 - Python para Data Science\n",
        "\n",
        "En este modulo vamos a ver:\n",
        "*   variables y tipos de variables.\n",
        "*   Manipulacions de datos."
      ],
      "metadata": {
        "id": "YAGkZygG4tQU"
      }
    },
    {
      "cell_type": "markdown",
      "source": [
        "### Variables\n",
        "Las variables en python al igual que en algebra son \"objetos\" a los que les ponemos un \"nombre\" y les asignamos un valor por ejemplo:\n",
        "\n",
        "\n",
        "*   En Algebra:\n",
        "  * x + 3 cuando x = 2 (en este caso estamos asigando el valor de 2 a la X que seria nuestra variable)\n",
        "      * el resultado seria *5*\n",
        "\n",
        "* En programación:\n",
        "  * Nombre = Juan ('Nombre' seria nuestra variable y 'Juan' nuestro valor asignado)\n",
        "  * Print(\"Hola \"Nombre)\n",
        "    * el output seria \"Hola Juan\"\n",
        "\n",
        "\n"
      ],
      "metadata": {
        "id": "FzyD6g405ssb"
      }
    },
    {
      "cell_type": "markdown",
      "source": [
        "### Tipos de variables\n",
        "hay 4 tipos de variables principalmente:\n",
        "\n",
        "\n",
        "*   Variable tipo entero: int (las variables tipo entero son numeros enteros es decir sin puntos decimales, como por ejemplo 2, 3, 4, 5... )\n",
        "*   Variable tipo float: float (las variables de este tipo permiten numeros decimales, por ejemplo, 2.3, 4.5, 6.4...)\n",
        "*   Variable tipo texto: str (las variables de tipo texto corresponden al sistema ACSII de texto como por ejemplo 'Nombre', 'Perro' Y 'gato', estas son cadenas de texto ya que estan formadas por varios caracteres)\n",
        "*   Variable tipo boleanos: bool (este tipo de variable solo tiene 2 estados posibles TRUE o FALSE)\n",
        "\n"
      ],
      "metadata": {
        "id": "gZbiBxxr93yi"
      }
    },
    {
      "cell_type": "code",
      "source": [],
      "metadata": {
        "id": "7GeOGqen5Sz-"
      },
      "execution_count": null,
      "outputs": []
    }
  ]
}