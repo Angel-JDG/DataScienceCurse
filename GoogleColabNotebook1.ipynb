{
  "nbformat": 4,
  "nbformat_minor": 0,
  "metadata": {
    "colab": {
      "provenance": [],
      "authorship_tag": "ABX9TyMaR04w2i5mVlCfxuQpVPFx",
      "include_colab_link": true
    },
    "kernelspec": {
      "name": "python3",
      "display_name": "Python 3"
    },
    "language_info": {
      "name": "python"
    }
  },
  "cells": [
    {
      "cell_type": "markdown",
      "metadata": {
        "id": "view-in-github",
        "colab_type": "text"
      },
      "source": [
        "<a href=\"https://colab.research.google.com/github/Angel-JDG/DataScienceCurse/blob/main/GoogleColabNotebook1.ipynb\" target=\"_parent\"><img src=\"https://colab.research.google.com/assets/colab-badge.svg\" alt=\"Open In Colab\"/></a>"
      ]
    },
    {
      "cell_type": "markdown",
      "source": [],
      "metadata": {
        "id": "dZug0I5H_wfL"
      }
    },
    {
      "cell_type": "markdown",
      "source": [
        "## Clase Modulo 1 - Python para data Science\n",
        "\n",
        "En este modulo vamos a ver:\n",
        "\n",
        "* Introducción al notebook de Google Colaboratory.\n",
        "* Introducción al lenguaje de programación Python.\n",
        "\n",
        "\n"
      ],
      "metadata": {
        "id": "dKD6bVkJ_ILO"
      }
    },
    {
      "cell_type": "code",
      "source": [
        "print(\"Hola Hundo\")"
      ],
      "metadata": {
        "id": "QsOiM-Cs_xMm"
      },
      "execution_count": null,
      "outputs": []
    },
    {
      "cell_type": "markdown",
      "source": [
        "### Desafio Modulo 1 - sección 8\n"
      ],
      "metadata": {
        "id": "Br1RgdKfNFsp"
      }
    },
    {
      "cell_type": "code",
      "source": [
        "# Desafio #1\n",
        "print(\"Escuela de Datos de Alura.\")"
      ],
      "metadata": {
        "colab": {
          "base_uri": "https://localhost:8080/"
        },
        "id": "zp56Fu6WNYxn",
        "outputId": "39ed8c97-2562-4f9f-b24d-c2da49c30de5"
      },
      "execution_count": null,
      "outputs": [
        {
          "output_type": "stream",
          "name": "stdout",
          "text": [
            "Escuela de Datos de Alura.\n"
          ]
        }
      ]
    },
    {
      "cell_type": "code",
      "source": [
        "#Desafio #2\n",
        "Nombre = \"Angel\"\n",
        "Apellido = \"Delgado\"\n",
        "\n",
        "print (f\"Mi nombre es {Nombre} {Apellido}\")"
      ],
      "metadata": {
        "colab": {
          "base_uri": "https://localhost:8080/"
        },
        "id": "O43jLNQpNxLe",
        "outputId": "6b88d115-0b0c-4de0-ee26-e2ef947a614f"
      },
      "execution_count": null,
      "outputs": [
        {
          "output_type": "stream",
          "name": "stdout",
          "text": [
            "Mi nombre es Angel Delgado\n"
          ]
        }
      ]
    },
    {
      "cell_type": "code",
      "source": [
        "#Desafio #3\n",
        "Nombre = \"Pedro\"\n",
        "for a in Nombre:\n",
        "  print (a)"
      ],
      "metadata": {
        "colab": {
          "base_uri": "https://localhost:8080/"
        },
        "id": "pzB8LiMHOZXA",
        "outputId": "55800a7b-34aa-4b40-9da4-9e1f11cee33d"
      },
      "execution_count": null,
      "outputs": [
        {
          "output_type": "stream",
          "name": "stdout",
          "text": [
            "P\n",
            "e\n",
            "d\n",
            "r\n",
            "o\n"
          ]
        }
      ]
    },
    {
      "cell_type": "code",
      "source": [
        "#Desafio #4\n",
        "Mes = \"Abril\"\n",
        "Año = 2025\n",
        "Dia = 4\n",
        "print (f\"{Dia} {Mes} del {Año}\")"
      ],
      "metadata": {
        "colab": {
          "base_uri": "https://localhost:8080/"
        },
        "id": "L-i7iC7yRf1c",
        "outputId": "8c304412-a28c-4c6d-8ba5-b07a772681b0"
      },
      "execution_count": null,
      "outputs": [
        {
          "output_type": "stream",
          "name": "stdout",
          "text": [
            "4 Abril del 2025\n"
          ]
        }
      ]
    },
    {
      "cell_type": "code",
      "source": [
        "#Desafio #5\n",
        "Año = 2025\n",
        "print(f\"Año Actual: {Año}\")"
      ],
      "metadata": {
        "colab": {
          "base_uri": "https://localhost:8080/"
        },
        "id": "r3n3wdfNShPy",
        "outputId": "9f605043-d44d-4f9a-ddf0-006b8bb48edf"
      },
      "execution_count": null,
      "outputs": [
        {
          "output_type": "stream",
          "name": "stdout",
          "text": [
            "Año Actual: 2025\n"
          ]
        }
      ]
    },
    {
      "cell_type": "markdown",
      "source": [
        "## Clase Modulo 2 - Python para Data Science\n",
        "\n",
        "En este modulo vamos a ver:\n",
        "*   variables y tipos de variables.\n",
        "*   Manipulacions de datos."
      ],
      "metadata": {
        "id": "YAGkZygG4tQU"
      }
    },
    {
      "cell_type": "markdown",
      "source": [
        "### Variables\n",
        "Las variables en python al igual que en algebra son \"objetos\" a los que les ponemos un \"nombre\" y les asignamos un valor por ejemplo:\n",
        "\n",
        "\n",
        "*   En Algebra:\n",
        "  * x + 3 cuando x = 2 (en este caso estamos asigando el valor de 2 a la X que seria nuestra variable)\n",
        "      * el resultado seria *5*\n",
        "\n",
        "* En programación:\n",
        "  * Nombre = Juan ('Nombre' seria nuestra variable y 'Juan' nuestro valor asignado)\n",
        "  * Print(\"Hola \"Nombre)\n",
        "    * el output seria \"Hola Juan\"\n",
        "\n",
        "\n"
      ],
      "metadata": {
        "id": "FzyD6g405ssb"
      }
    },
    {
      "cell_type": "markdown",
      "source": [
        "### Tipos de variables\n",
        "hay 4 tipos de variables principalmente:\n",
        "\n",
        "\n",
        "*   Variable tipo entero: int (las variables tipo entero son numeros enteros es decir sin puntos decimales, como por ejemplo 2, 3, 4, 5... )\n",
        "*   Variable tipo float: float (las variables de este tipo permiten numeros decimales, por ejemplo, 2.3, 4.5, 6.4...)\n",
        "*   Variable tipo texto: str (las variables de tipo texto corresponden al sistema ACSII de texto como por ejemplo 'Nombre', 'Perro' Y 'gato', estas son cadenas de texto ya que estan formadas por varios caracteres)\n",
        "*   Variable tipo boleanos: bool (este tipo de variable solo tiene 2 estados posibles TRUE o FALSE)\n",
        "\n",
        "**Ejemplo en clases:**"
      ],
      "metadata": {
        "id": "gZbiBxxr93yi"
      }
    },
    {
      "cell_type": "code",
      "source": [
        "# Tranformar la ficha de un alumno en variables\n",
        "Nombre_estudiante = \"Penélope\"\n",
        "Edad_estudiante = 21\n",
        "Promedio_Estudiante = 9.7\n",
        "Aprobado = True\n",
        "print(Nombre_estudiante, Edad_estudiante, Promedio_Estudiante, Aprobado)\n",
        "print(type(Nombre_estudiante), type(Edad_estudiante), type(Promedio_Estudiante), type(Aprobado))"
      ],
      "metadata": {
        "id": "7GeOGqen5Sz-",
        "colab": {
          "base_uri": "https://localhost:8080/"
        },
        "outputId": "edc5ab0b-1319-4300-de67-e3f3d6684bec"
      },
      "execution_count": 3,
      "outputs": [
        {
          "output_type": "stream",
          "name": "stdout",
          "text": [
            "Penélope 21 9.7 True\n",
            "<class 'str'> <class 'int'> <class 'float'> <class 'bool'>\n"
          ]
        }
      ]
    },
    {
      "cell_type": "markdown",
      "source": [
        "####Variables Numericas\n",
        "Enfoque en variables de tipo **float** e **int**.\n",
        "\n",
        "* Datos:\n",
        "  * Vigilante: Cantidad 5, Salario 300.\n",
        "  * Docente: Cantidad 16, Salario 500.\n",
        "  * Coordinador: Cantidad 2, Salario 600.\n",
        "\n",
        "\n",
        "\n",
        "\n",
        "\n",
        "\n",
        "Casos de uso:\n",
        "*   Cantidad total de empleados.\n",
        "*   Diferencia entre el salario más alto y más bajo.\n",
        "*   Promedio ponderado de los salarios.\n",
        "\n",
        "Ejemplo en clase:"
      ],
      "metadata": {
        "id": "sPBKPi9kTdEO"
      }
    },
    {
      "cell_type": "code",
      "source": [
        "Cantidad_vigilante = 5\n",
        "Salario_vigilante = 300\n",
        "\n",
        "Cantidad_docente = 16\n",
        "Salario_docente = 500\n",
        "\n",
        "Cantidad_coordinador = 2\n",
        "Salario_coordinador = 600\n",
        "\n",
        "Total_empleados = Cantidad_vigilante + Cantidad_coordinador + Cantidad_docente\n",
        "Total_empleados\n",
        "\n",
        "Diferencia_salario = Cantidad_coordinador - Cantidad_vigilante\n",
        "Diferencia_salario\n",
        "\n",
        "Promedio_salario = (Salario_coordinador*Cantidad_coordinador + Salario_docente*Cantidad_docente + Salario_vigilante*Cantidad_vigilante)/Total_empleados\n",
        "Promedio_salario"
      ],
      "metadata": {
        "colab": {
          "base_uri": "https://localhost:8080/"
        },
        "id": "WAvm5n83UheV",
        "outputId": "27afcb5b-e326-4946-84e7-d1bbe9fb85a4"
      },
      "execution_count": 9,
      "outputs": [
        {
          "output_type": "execute_result",
          "data": {
            "text/plain": [
              "465.2173913043478"
            ]
          },
          "metadata": {},
          "execution_count": 9
        }
      ]
    },
    {
      "cell_type": "markdown",
      "source": [
        "####Variables de texto\n",
        "Enfoque en variables de tipo texto **String**.\n",
        "\n",
        "las variables de tipo texto pueden estr envueltas en comillas simples ( ' ) o comillas dobles ( \" ).\n",
        "```\n",
        "t = \"Alura\"\n",
        "type (t) --> string\n",
        "```\n",
        "las variables textuales son objetos que poseen metodos que nos ayudan a formatear strings. los metodos los podemos ejecutar acorde a la siguiente estructura:\n",
        "\n",
        "objeto.metodo()\n",
        "\n",
        "los parentesis no siempre van con todo los metodos, por eso se debe verificar en la documentación.\n",
        "\n",
        "**Ejemplo en clase:**\n",
        "\n",
        "se recibe una variable con un nombre para insertar a un registro, pero antes se debe pasar por un tratamiento al texto antes de insertarlo al sistema.\n"
      ],
      "metadata": {
        "id": "J3y6i8osaNXz"
      }
    },
    {
      "cell_type": "code",
      "source": [
        "texto = \" Micaela de los Sanyos\"\n",
        "id(texto)"
      ],
      "metadata": {
        "colab": {
          "base_uri": "https://localhost:8080/"
        },
        "id": "TvqD0kYRa5Gl",
        "outputId": "4196fa88-4e2b-4c97-8812-24fdf9be8d56"
      },
      "execution_count": 33,
      "outputs": [
        {
          "output_type": "execute_result",
          "data": {
            "text/plain": [
              "135539513026368"
            ]
          },
          "metadata": {},
          "execution_count": 33
        }
      ]
    },
    {
      "cell_type": "markdown",
      "source": [
        "el objetivo final es el siguiente: 'MICAELA DE LOS SANTOS'"
      ],
      "metadata": {
        "id": "lb9Kkv9RcdYn"
      }
    },
    {
      "cell_type": "code",
      "source": [
        "# utilizamos metodo upper para convertir a mayusculas toda la cadena de texto\n",
        "texto.upper()"
      ],
      "metadata": {
        "colab": {
          "base_uri": "https://localhost:8080/",
          "height": 38
        },
        "id": "PkulL9b6dCPr",
        "outputId": "3b311ded-0f90-480c-f491-3a3342301320"
      },
      "execution_count": 34,
      "outputs": [
        {
          "output_type": "execute_result",
          "data": {
            "text/plain": [
              "' MICAELA DE LOS SANYOS'"
            ],
            "application/vnd.google.colaboratory.intrinsic+json": {
              "type": "string"
            }
          },
          "metadata": {},
          "execution_count": 34
        }
      ]
    },
    {
      "cell_type": "code",
      "source": [
        "# utilizamos metodo lower para convertir a minusculas toda la cadena de texto\n",
        "texto.lower()"
      ],
      "metadata": {
        "colab": {
          "base_uri": "https://localhost:8080/",
          "height": 38
        },
        "id": "w78u5yJpdds9",
        "outputId": "d8857153-75e7-48e3-aa01-d068d2245f6c"
      },
      "execution_count": 35,
      "outputs": [
        {
          "output_type": "execute_result",
          "data": {
            "text/plain": [
              "' micaela de los sanyos'"
            ],
            "application/vnd.google.colaboratory.intrinsic+json": {
              "type": "string"
            }
          },
          "metadata": {},
          "execution_count": 35
        }
      ]
    },
    {
      "cell_type": "code",
      "source": [
        "# utilizamos metodo strip para eliminar espacios en blanco al principio o final de un string\n",
        "texto.strip()"
      ],
      "metadata": {
        "colab": {
          "base_uri": "https://localhost:8080/",
          "height": 38
        },
        "id": "pYrHE-uUdf7s",
        "outputId": "f8993781-8bb8-4a27-d947-91a387be03e8"
      },
      "execution_count": 36,
      "outputs": [
        {
          "output_type": "execute_result",
          "data": {
            "text/plain": [
              "'Micaela de los Sanyos'"
            ],
            "application/vnd.google.colaboratory.intrinsic+json": {
              "type": "string"
            }
          },
          "metadata": {},
          "execution_count": 36
        }
      ]
    },
    {
      "cell_type": "code",
      "source": [
        "# utilizamos metodo replace para editar/cambiar un elemento del contenido\n",
        "texto.replace('y', 't')\n"
      ],
      "metadata": {
        "colab": {
          "base_uri": "https://localhost:8080/",
          "height": 38
        },
        "id": "GeD40kq-eHwz",
        "outputId": "36a08f9c-32e4-4254-80e0-7fd7d897f777"
      },
      "execution_count": 37,
      "outputs": [
        {
          "output_type": "execute_result",
          "data": {
            "text/plain": [
              "' Micaela de los Santos'"
            ],
            "application/vnd.google.colaboratory.intrinsic+json": {
              "type": "string"
            }
          },
          "metadata": {},
          "execution_count": 37
        }
      ]
    },
    {
      "cell_type": "code",
      "source": [
        "# se pueden usar varios metodos al mismo tiempo y la variable debe ser guardada:\n",
        "nuevo_texto= texto.strip().upper().replace('y', 't')\n",
        "print(nuevo_texto)\n",
        "# al ser variables diferentes no se almacenan en el mismo espacio de memoria\n",
        "print(id(texto), id(nuevo_texto))"
      ],
      "metadata": {
        "colab": {
          "base_uri": "https://localhost:8080/"
        },
        "id": "X7taXbR7fLfr",
        "outputId": "3d2d2b82-bb81-4bbe-a53b-f625231885e6"
      },
      "execution_count": 44,
      "outputs": [
        {
          "output_type": "stream",
          "name": "stdout",
          "text": [
            "MICAELA DE LOS SANYOS\n",
            "135539513040032 135539513017008\n"
          ]
        }
      ]
    },
    {
      "cell_type": "code",
      "source": [
        "texto= texto.strip().upper().replace('y', 't')\n",
        "print(texto)\n",
        "print(id(texto), id(nuevo_texto))"
      ],
      "metadata": {
        "colab": {
          "base_uri": "https://localhost:8080/"
        },
        "id": "eoGLA8CKgXJU",
        "outputId": "000f3f79-8bba-460f-e4e0-8c287b6402c3"
      },
      "execution_count": 45,
      "outputs": [
        {
          "output_type": "stream",
          "name": "stdout",
          "text": [
            "MICAELA DE LOS SANYOS\n",
            "135539511017520 135539513017008\n"
          ]
        }
      ]
    },
    {
      "cell_type": "markdown",
      "source": [
        "#### Colección de datos\n",
        "\n"
      ],
      "metadata": {
        "id": "RPWt8c-ahSnp"
      }
    }
  ]
}